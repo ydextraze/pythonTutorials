{
 "cells": [
  {
   "cell_type": "code",
   "execution_count": 1,
   "metadata": {
    "collapsed": true
   },
   "outputs": [],
   "source": [
    "import os\n",
    "import numpy as np \n",
    "import pandas as pd"
   ]
  },
  {
   "cell_type": "code",
   "execution_count": 2,
   "metadata": {
    "collapsed": false
   },
   "outputs": [
    {
     "data": {
      "text/html": [
       "<div>\n",
       "<table border=\"1\" class=\"dataframe\">\n",
       "  <thead>\n",
       "    <tr style=\"text-align: right;\">\n",
       "      <th></th>\n",
       "      <th>id</th>\n",
       "      <th>country</th>\n",
       "      <th>is_poor_0</th>\n",
       "      <th>is_poor_1</th>\n",
       "      <th>is_poor_2</th>\n",
       "      <th>is_poor_3</th>\n",
       "      <th>is_poor_4</th>\n",
       "      <th>is_poor_5</th>\n",
       "      <th>is_poor_6</th>\n",
       "      <th>is_poor_7</th>\n",
       "      <th>is_poor_8</th>\n",
       "      <th>is_poor_9</th>\n",
       "      <th>is_poor_10</th>\n",
       "      <th>is_poor_11</th>\n",
       "      <th>is_poor_12</th>\n",
       "    </tr>\n",
       "  </thead>\n",
       "  <tbody>\n",
       "    <tr>\n",
       "      <th>0</th>\n",
       "      <td>9135</td>\n",
       "      <td>B</td>\n",
       "      <td>0.008006</td>\n",
       "      <td>0.003316</td>\n",
       "      <td>0.001767</td>\n",
       "      <td>0.002474</td>\n",
       "      <td>0.008006</td>\n",
       "      <td>0.002684</td>\n",
       "      <td>0.002953</td>\n",
       "      <td>0.002700</td>\n",
       "      <td>0.003467</td>\n",
       "      <td>0.007510</td>\n",
       "      <td>0.005310</td>\n",
       "      <td>0.004355</td>\n",
       "      <td>0.008006</td>\n",
       "    </tr>\n",
       "    <tr>\n",
       "      <th>1</th>\n",
       "      <td>117</td>\n",
       "      <td>B</td>\n",
       "      <td>0.069620</td>\n",
       "      <td>0.057328</td>\n",
       "      <td>0.034412</td>\n",
       "      <td>0.062617</td>\n",
       "      <td>0.069620</td>\n",
       "      <td>0.024344</td>\n",
       "      <td>0.063372</td>\n",
       "      <td>0.050885</td>\n",
       "      <td>0.027196</td>\n",
       "      <td>0.009448</td>\n",
       "      <td>0.061243</td>\n",
       "      <td>0.059690</td>\n",
       "      <td>0.069620</td>\n",
       "    </tr>\n",
       "    <tr>\n",
       "      <th>2</th>\n",
       "      <td>29085</td>\n",
       "      <td>B</td>\n",
       "      <td>0.003793</td>\n",
       "      <td>0.002233</td>\n",
       "      <td>0.005325</td>\n",
       "      <td>0.001520</td>\n",
       "      <td>0.003793</td>\n",
       "      <td>0.010770</td>\n",
       "      <td>0.000537</td>\n",
       "      <td>0.004351</td>\n",
       "      <td>0.001102</td>\n",
       "      <td>0.002976</td>\n",
       "      <td>0.003098</td>\n",
       "      <td>0.001695</td>\n",
       "      <td>0.003793</td>\n",
       "    </tr>\n",
       "    <tr>\n",
       "      <th>3</th>\n",
       "      <td>55442</td>\n",
       "      <td>B</td>\n",
       "      <td>0.082591</td>\n",
       "      <td>0.015402</td>\n",
       "      <td>0.151245</td>\n",
       "      <td>0.060690</td>\n",
       "      <td>0.082591</td>\n",
       "      <td>0.028010</td>\n",
       "      <td>0.113654</td>\n",
       "      <td>0.103925</td>\n",
       "      <td>0.071562</td>\n",
       "      <td>0.091118</td>\n",
       "      <td>0.048779</td>\n",
       "      <td>0.044030</td>\n",
       "      <td>0.082591</td>\n",
       "    </tr>\n",
       "    <tr>\n",
       "      <th>4</th>\n",
       "      <td>29281</td>\n",
       "      <td>B</td>\n",
       "      <td>0.001408</td>\n",
       "      <td>0.010322</td>\n",
       "      <td>0.004402</td>\n",
       "      <td>0.001564</td>\n",
       "      <td>0.001408</td>\n",
       "      <td>0.036404</td>\n",
       "      <td>0.008339</td>\n",
       "      <td>0.007451</td>\n",
       "      <td>0.002548</td>\n",
       "      <td>0.010373</td>\n",
       "      <td>0.005592</td>\n",
       "      <td>0.001854</td>\n",
       "      <td>0.001408</td>\n",
       "    </tr>\n",
       "  </tbody>\n",
       "</table>\n",
       "</div>"
      ],
      "text/plain": [
       "      id country  is_poor_0  is_poor_1  is_poor_2  is_poor_3  is_poor_4  \\\n",
       "0   9135       B   0.008006   0.003316   0.001767   0.002474   0.008006   \n",
       "1    117       B   0.069620   0.057328   0.034412   0.062617   0.069620   \n",
       "2  29085       B   0.003793   0.002233   0.005325   0.001520   0.003793   \n",
       "3  55442       B   0.082591   0.015402   0.151245   0.060690   0.082591   \n",
       "4  29281       B   0.001408   0.010322   0.004402   0.001564   0.001408   \n",
       "\n",
       "   is_poor_5  is_poor_6  is_poor_7  is_poor_8  is_poor_9  is_poor_10  \\\n",
       "0   0.002684   0.002953   0.002700   0.003467   0.007510    0.005310   \n",
       "1   0.024344   0.063372   0.050885   0.027196   0.009448    0.061243   \n",
       "2   0.010770   0.000537   0.004351   0.001102   0.002976    0.003098   \n",
       "3   0.028010   0.113654   0.103925   0.071562   0.091118    0.048779   \n",
       "4   0.036404   0.008339   0.007451   0.002548   0.010373    0.005592   \n",
       "\n",
       "   is_poor_11  is_poor_12  \n",
       "0    0.004355    0.008006  \n",
       "1    0.059690    0.069620  \n",
       "2    0.001695    0.003793  \n",
       "3    0.044030    0.082591  \n",
       "4    0.001854    0.001408  "
      ]
     },
     "execution_count": 2,
     "metadata": {},
     "output_type": "execute_result"
    }
   ],
   "source": [
    "path = r\"C:\\Users\\piush\\Desktop\\World Bank Poverty\\submissions\\b_sub\"\n",
    "\n",
    "all_files = os.listdir(path)\n",
    "\n",
    "# Read and concatenate submissions\n",
    "outs = [pd.read_csv(os.path.join(path, f), index_col=[0,1]) for f in all_files]\n",
    "concat_sub = pd.concat(outs, axis=1)\n",
    "cols = list(map(lambda x: \"is_poor_\" + str(x), range(len(concat_sub.columns))))\n",
    "concat_sub.columns = cols\n",
    "concat_sub.reset_index(inplace=True)\n",
    "concat_sub.head()"
   ]
  },
  {
   "cell_type": "code",
   "execution_count": 3,
   "metadata": {
    "collapsed": false
   },
   "outputs": [
    {
     "data": {
      "text/html": [
       "<div>\n",
       "<table border=\"1\" class=\"dataframe\">\n",
       "  <thead>\n",
       "    <tr style=\"text-align: right;\">\n",
       "      <th></th>\n",
       "      <th>is_poor_0</th>\n",
       "      <th>is_poor_1</th>\n",
       "      <th>is_poor_2</th>\n",
       "      <th>is_poor_3</th>\n",
       "      <th>is_poor_4</th>\n",
       "      <th>is_poor_5</th>\n",
       "      <th>is_poor_6</th>\n",
       "      <th>is_poor_7</th>\n",
       "      <th>is_poor_8</th>\n",
       "      <th>is_poor_9</th>\n",
       "      <th>is_poor_10</th>\n",
       "      <th>is_poor_11</th>\n",
       "      <th>is_poor_12</th>\n",
       "    </tr>\n",
       "  </thead>\n",
       "  <tbody>\n",
       "    <tr>\n",
       "      <th>0</th>\n",
       "      <td>0.008006</td>\n",
       "      <td>0.003316</td>\n",
       "      <td>0.001767</td>\n",
       "      <td>0.002474</td>\n",
       "      <td>0.008006</td>\n",
       "      <td>0.002684</td>\n",
       "      <td>0.002953</td>\n",
       "      <td>0.002700</td>\n",
       "      <td>0.003467</td>\n",
       "      <td>0.007510</td>\n",
       "      <td>0.005310</td>\n",
       "      <td>0.004355</td>\n",
       "      <td>0.008006</td>\n",
       "    </tr>\n",
       "    <tr>\n",
       "      <th>1</th>\n",
       "      <td>0.069620</td>\n",
       "      <td>0.057328</td>\n",
       "      <td>0.034412</td>\n",
       "      <td>0.062617</td>\n",
       "      <td>0.069620</td>\n",
       "      <td>0.024344</td>\n",
       "      <td>0.063372</td>\n",
       "      <td>0.050885</td>\n",
       "      <td>0.027196</td>\n",
       "      <td>0.009448</td>\n",
       "      <td>0.061243</td>\n",
       "      <td>0.059690</td>\n",
       "      <td>0.069620</td>\n",
       "    </tr>\n",
       "  </tbody>\n",
       "</table>\n",
       "</div>"
      ],
      "text/plain": [
       "   is_poor_0  is_poor_1  is_poor_2  is_poor_3  is_poor_4  is_poor_5  \\\n",
       "0   0.008006   0.003316   0.001767   0.002474   0.008006   0.002684   \n",
       "1   0.069620   0.057328   0.034412   0.062617   0.069620   0.024344   \n",
       "\n",
       "   is_poor_6  is_poor_7  is_poor_8  is_poor_9  is_poor_10  is_poor_11  \\\n",
       "0   0.002953   0.002700   0.003467   0.007510    0.005310    0.004355   \n",
       "1   0.063372   0.050885   0.027196   0.009448    0.061243    0.059690   \n",
       "\n",
       "   is_poor_12  \n",
       "0    0.008006  \n",
       "1    0.069620  "
      ]
     },
     "execution_count": 3,
     "metadata": {},
     "output_type": "execute_result"
    }
   ],
   "source": [
    "concat_sub.iloc[:,2:15].head(2)"
   ]
  },
  {
   "cell_type": "code",
   "execution_count": 5,
   "metadata": {
    "collapsed": true
   },
   "outputs": [],
   "source": [
    "concat_sub['poor'] = concat_sub.iloc[:,2:15].mean(axis = 1)"
   ]
  },
  {
   "cell_type": "code",
   "execution_count": 6,
   "metadata": {
    "collapsed": true
   },
   "outputs": [],
   "source": [
    "b = concat_sub[['id','country','poor']]"
   ]
  },
  {
   "cell_type": "code",
   "execution_count": 7,
   "metadata": {
    "collapsed": true
   },
   "outputs": [],
   "source": [
    "b.to_csv(\"b_1.csv\")"
   ]
  },
  {
   "cell_type": "code",
   "execution_count": null,
   "metadata": {
    "collapsed": true
   },
   "outputs": [],
   "source": [
    "# get the data fields ready for stacking\n",
    "concat_sub['is_poor_max'] = concat_sub.iloc[:, 2:18].max(axis=1)\n",
    "concat_sub['is_poor_min'] = concat_sub.iloc[:, 2:18].min(axis=1)\n",
    "concat_sub['is_poor_mean'] = concat_sub.iloc[:, 2:18].mean(axis=1)\n",
    "concat_sub['is_poor_median'] = concat_sub.iloc[:, 2:18].median(axis=1)"
   ]
  },
  {
   "cell_type": "code",
   "execution_count": null,
   "metadata": {
    "collapsed": true
   },
   "outputs": [],
   "source": [
    "# set up cutoff threshold for lower and upper bounds, easy to twist \n",
    "cutoff_lo = 0.8\n",
    "cutoff_hi = 0.2"
   ]
  },
  {
   "cell_type": "code",
   "execution_count": null,
   "metadata": {
    "collapsed": true
   },
   "outputs": [],
   "source": [
    "concat_sub.head()"
   ]
  },
  {
   "cell_type": "markdown",
   "metadata": {},
   "source": [
    "### Change the column names "
   ]
  },
  {
   "cell_type": "markdown",
   "metadata": {},
   "source": [
    "###### Mean Stacking"
   ]
  },
  {
   "cell_type": "code",
   "execution_count": null,
   "metadata": {
    "collapsed": true
   },
   "outputs": [],
   "source": [
    "concat_sub['is_poor'] = concat_sub['is_poor_mean']\n",
    "concat_sub[['id','country', 'is_poor']].to_csv('stack_mean.csv', \n",
    "                                        index=False, float_format='%.6f')"
   ]
  },
  {
   "cell_type": "markdown",
   "metadata": {},
   "source": [
    "###### Median Stacking"
   ]
  },
  {
   "cell_type": "code",
   "execution_count": null,
   "metadata": {
    "collapsed": true
   },
   "outputs": [],
   "source": [
    "concat_sub['is_poor'] = concat_sub['is_poor_median']\n",
    "concat_sub[['id','country', 'is_poor']].to_csv('stack_median.csv', \n",
    "                                        index=False, float_format='%.6f')"
   ]
  },
  {
   "cell_type": "markdown",
   "metadata": {},
   "source": [
    "###### PushOut + Median Stacking\n",
    "Pushout strategy is a bit agressive given what it does..."
   ]
  },
  {
   "cell_type": "code",
   "execution_count": null,
   "metadata": {
    "collapsed": true
   },
   "outputs": [],
   "source": [
    "concat_sub['is_poor'] = np.where(np.all(concat_sub.iloc[:,1:6] > cutoff_lo, axis=1), 1, \n",
    "                                    np.where(np.all(concat_sub.iloc[:,1:6] < cutoff_hi, axis=1),\n",
    "                                             0, concat_sub['is_poor_median']))\n",
    "concat_sub[['id','country', 'is_poor']].to_csv('stack_pushout_median.csv', \n",
    "                                        index=False, float_format='%.6f')"
   ]
  },
  {
   "cell_type": "markdown",
   "metadata": {},
   "source": [
    "###### MinMax + Mean Stacking\n",
    "MinMax seems more gentle and it outperforms the previous one given its peformance score."
   ]
  },
  {
   "cell_type": "code",
   "execution_count": null,
   "metadata": {
    "collapsed": true
   },
   "outputs": [],
   "source": [
    "concat_sub['is_poor'] = np.where(np.all(concat_sub.iloc[:,1:6] > cutoff_lo, axis=1), \n",
    "                                    concat_sub['is_poor_max'], \n",
    "                                    np.where(np.all(concat_sub.iloc[:,1:6] < cutoff_hi, axis=1),\n",
    "                                             concat_sub['is_poor_min'], \n",
    "                                             concat_sub['is_poor_mean']))\n",
    "concat_sub[['id','country', 'is_poor']].to_csv('stack_minmax_mean.csv', \n",
    "                                        index=False, float_format='%.6f')"
   ]
  },
  {
   "cell_type": "markdown",
   "metadata": {},
   "source": [
    "###### MinMax + Median Stacking"
   ]
  },
  {
   "cell_type": "code",
   "execution_count": null,
   "metadata": {
    "collapsed": true
   },
   "outputs": [],
   "source": [
    "concat_sub['is_poor'] = np.where(np.all(concat_sub.iloc[:,1:6] > cutoff_lo, axis=1), \n",
    "                                    concat_sub['is_poor_max'], \n",
    "                                    np.where(np.all(concat_sub.iloc[:,1:6] < cutoff_hi, axis=1),\n",
    "                                             concat_sub['is_poor_min'], \n",
    "                                             concat_sub['is_poor_median']))\n",
    "concat_sub[['id','country', 'is_poor']].to_csv('stack_minmax_median.csv', \n",
    "                                        index=False, float_format='%.6f')"
   ]
  },
  {
   "cell_type": "markdown",
   "metadata": {},
   "source": [
    "###### MinMax + BestBase Stacking"
   ]
  },
  {
   "cell_type": "code",
   "execution_count": null,
   "metadata": {
    "collapsed": true
   },
   "outputs": [],
   "source": [
    "# load the model with best base performance\n",
    "sub_base = pd.read_csv(r\"C:\\Users\\pvaish10\\Desktop\\csv_poverty\\submission_X_G_tr2.csv\")"
   ]
  },
  {
   "cell_type": "code",
   "execution_count": null,
   "metadata": {
    "collapsed": true
   },
   "outputs": [],
   "source": [
    "concat_sub['is_poor_base'] = sub_base['poor']\n",
    "concat_sub['is_poor'] = np.where(np.all(concat_sub.iloc[:,1:6] > cutoff_lo, axis=1), \n",
    "                                    concat_sub['is_poor_max'], \n",
    "                                    np.where(np.all(concat_sub.iloc[:,1:6] < cutoff_hi, axis=1),\n",
    "                                             concat_sub['is_poor_min'], \n",
    "                                             concat_sub['is_poor_base']))\n",
    "concat_sub[['id','country', 'is_poor']].to_csv('stack_minmax_bestbase.csv', \n",
    "                                        index=False, float_format='%.6f')"
   ]
  },
  {
   "cell_type": "code",
   "execution_count": null,
   "metadata": {
    "collapsed": true
   },
   "outputs": [],
   "source": []
  }
 ],
 "metadata": {
  "anaconda-cloud": {},
  "kernelspec": {
   "display_name": "Python [default]",
   "language": "python",
   "name": "python3"
  },
  "language_info": {
   "codemirror_mode": {
    "name": "ipython",
    "version": 3
   },
   "file_extension": ".py",
   "mimetype": "text/x-python",
   "name": "python",
   "nbconvert_exporter": "python",
   "pygments_lexer": "ipython3",
   "version": "3.5.1"
  }
 },
 "nbformat": 4,
 "nbformat_minor": 2
}
