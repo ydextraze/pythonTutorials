{
 "cells": [
  {
   "cell_type": "code",
   "execution_count": 2,
   "metadata": {
    "collapsed": true
   },
   "outputs": [],
   "source": [
    "import os\n",
    "import numpy as np \n",
    "import pandas as pd"
   ]
  },
  {
   "cell_type": "code",
   "execution_count": 3,
   "metadata": {
    "collapsed": false
   },
   "outputs": [
    {
     "data": {
      "text/html": [
       "<div>\n",
       "<table border=\"1\" class=\"dataframe\">\n",
       "  <thead>\n",
       "    <tr style=\"text-align: right;\">\n",
       "      <th></th>\n",
       "      <th>id</th>\n",
       "      <th>country</th>\n",
       "      <th>is_poor_0</th>\n",
       "      <th>is_poor_1</th>\n",
       "      <th>is_poor_2</th>\n",
       "      <th>is_poor_3</th>\n",
       "      <th>is_poor_4</th>\n",
       "      <th>is_poor_5</th>\n",
       "      <th>is_poor_6</th>\n",
       "      <th>is_poor_7</th>\n",
       "      <th>is_poor_8</th>\n",
       "      <th>is_poor_9</th>\n",
       "      <th>is_poor_10</th>\n",
       "      <th>is_poor_11</th>\n",
       "      <th>is_poor_12</th>\n",
       "    </tr>\n",
       "  </thead>\n",
       "  <tbody>\n",
       "    <tr>\n",
       "      <th>0</th>\n",
       "      <td>418</td>\n",
       "      <td>A</td>\n",
       "      <td>0.923226</td>\n",
       "      <td>0.923226</td>\n",
       "      <td>0.994279</td>\n",
       "      <td>0.986550</td>\n",
       "      <td>0.982553</td>\n",
       "      <td>0.923226</td>\n",
       "      <td>0.977091</td>\n",
       "      <td>0.964370</td>\n",
       "      <td>0.997867</td>\n",
       "      <td>0.987687</td>\n",
       "      <td>0.992923</td>\n",
       "      <td>0.997882</td>\n",
       "      <td>0.983616</td>\n",
       "    </tr>\n",
       "    <tr>\n",
       "      <th>1</th>\n",
       "      <td>41249</td>\n",
       "      <td>A</td>\n",
       "      <td>0.000348</td>\n",
       "      <td>0.000348</td>\n",
       "      <td>0.000093</td>\n",
       "      <td>0.000076</td>\n",
       "      <td>0.000106</td>\n",
       "      <td>0.000348</td>\n",
       "      <td>0.000025</td>\n",
       "      <td>0.000070</td>\n",
       "      <td>0.000070</td>\n",
       "      <td>0.000141</td>\n",
       "      <td>0.000100</td>\n",
       "      <td>0.000046</td>\n",
       "      <td>0.000123</td>\n",
       "    </tr>\n",
       "    <tr>\n",
       "      <th>2</th>\n",
       "      <td>16205</td>\n",
       "      <td>A</td>\n",
       "      <td>0.797718</td>\n",
       "      <td>0.797718</td>\n",
       "      <td>0.996676</td>\n",
       "      <td>0.993071</td>\n",
       "      <td>0.993697</td>\n",
       "      <td>0.797718</td>\n",
       "      <td>0.908619</td>\n",
       "      <td>0.941512</td>\n",
       "      <td>0.973487</td>\n",
       "      <td>0.995622</td>\n",
       "      <td>0.987063</td>\n",
       "      <td>0.998779</td>\n",
       "      <td>0.979196</td>\n",
       "    </tr>\n",
       "    <tr>\n",
       "      <th>3</th>\n",
       "      <td>97501</td>\n",
       "      <td>A</td>\n",
       "      <td>0.000348</td>\n",
       "      <td>0.000348</td>\n",
       "      <td>0.000093</td>\n",
       "      <td>0.000076</td>\n",
       "      <td>0.000106</td>\n",
       "      <td>0.000348</td>\n",
       "      <td>0.000025</td>\n",
       "      <td>0.000070</td>\n",
       "      <td>0.000070</td>\n",
       "      <td>0.000141</td>\n",
       "      <td>0.000100</td>\n",
       "      <td>0.000046</td>\n",
       "      <td>0.000123</td>\n",
       "    </tr>\n",
       "    <tr>\n",
       "      <th>4</th>\n",
       "      <td>67756</td>\n",
       "      <td>A</td>\n",
       "      <td>0.992093</td>\n",
       "      <td>0.992093</td>\n",
       "      <td>0.999413</td>\n",
       "      <td>0.990447</td>\n",
       "      <td>0.924967</td>\n",
       "      <td>0.992093</td>\n",
       "      <td>0.998898</td>\n",
       "      <td>0.995074</td>\n",
       "      <td>0.998306</td>\n",
       "      <td>0.992904</td>\n",
       "      <td>0.999373</td>\n",
       "      <td>0.998777</td>\n",
       "      <td>0.996839</td>\n",
       "    </tr>\n",
       "  </tbody>\n",
       "</table>\n",
       "</div>"
      ],
      "text/plain": [
       "      id country  is_poor_0  is_poor_1  is_poor_2  is_poor_3  is_poor_4  \\\n",
       "0    418       A   0.923226   0.923226   0.994279   0.986550   0.982553   \n",
       "1  41249       A   0.000348   0.000348   0.000093   0.000076   0.000106   \n",
       "2  16205       A   0.797718   0.797718   0.996676   0.993071   0.993697   \n",
       "3  97501       A   0.000348   0.000348   0.000093   0.000076   0.000106   \n",
       "4  67756       A   0.992093   0.992093   0.999413   0.990447   0.924967   \n",
       "\n",
       "   is_poor_5  is_poor_6  is_poor_7  is_poor_8  is_poor_9  is_poor_10  \\\n",
       "0   0.923226   0.977091   0.964370   0.997867   0.987687    0.992923   \n",
       "1   0.000348   0.000025   0.000070   0.000070   0.000141    0.000100   \n",
       "2   0.797718   0.908619   0.941512   0.973487   0.995622    0.987063   \n",
       "3   0.000348   0.000025   0.000070   0.000070   0.000141    0.000100   \n",
       "4   0.992093   0.998898   0.995074   0.998306   0.992904    0.999373   \n",
       "\n",
       "   is_poor_11  is_poor_12  \n",
       "0    0.997882    0.983616  \n",
       "1    0.000046    0.000123  \n",
       "2    0.998779    0.979196  \n",
       "3    0.000046    0.000123  \n",
       "4    0.998777    0.996839  "
      ]
     },
     "execution_count": 3,
     "metadata": {},
     "output_type": "execute_result"
    }
   ],
   "source": [
    "path = r\"C:\\Users\\piush\\Desktop\\World Bank Poverty\\submissions\\a_sub\"\n",
    "\n",
    "all_files = os.listdir(path)\n",
    "\n",
    "# Read and concatenate submissions\n",
    "outs = [pd.read_csv(os.path.join(path, f), index_col=[0,1]) for f in all_files]\n",
    "concat_sub = pd.concat(outs, axis=1)\n",
    "cols = list(map(lambda x: \"is_poor_\" + str(x), range(len(concat_sub.columns))))\n",
    "concat_sub.columns = cols\n",
    "concat_sub.reset_index(inplace=True)\n",
    "concat_sub.head()"
   ]
  },
  {
   "cell_type": "code",
   "execution_count": 5,
   "metadata": {
    "collapsed": false
   },
   "outputs": [
    {
     "data": {
      "text/html": [
       "<div>\n",
       "<table border=\"1\" class=\"dataframe\">\n",
       "  <thead>\n",
       "    <tr style=\"text-align: right;\">\n",
       "      <th></th>\n",
       "      <th>is_poor_0</th>\n",
       "      <th>is_poor_1</th>\n",
       "      <th>is_poor_2</th>\n",
       "      <th>is_poor_3</th>\n",
       "      <th>is_poor_4</th>\n",
       "      <th>is_poor_5</th>\n",
       "      <th>is_poor_6</th>\n",
       "      <th>is_poor_7</th>\n",
       "      <th>is_poor_8</th>\n",
       "      <th>is_poor_9</th>\n",
       "      <th>is_poor_10</th>\n",
       "      <th>is_poor_11</th>\n",
       "      <th>is_poor_12</th>\n",
       "    </tr>\n",
       "  </thead>\n",
       "  <tbody>\n",
       "    <tr>\n",
       "      <th>0</th>\n",
       "      <td>0.923226</td>\n",
       "      <td>0.923226</td>\n",
       "      <td>0.994279</td>\n",
       "      <td>0.986550</td>\n",
       "      <td>0.982553</td>\n",
       "      <td>0.923226</td>\n",
       "      <td>0.977091</td>\n",
       "      <td>0.96437</td>\n",
       "      <td>0.997867</td>\n",
       "      <td>0.987687</td>\n",
       "      <td>0.992923</td>\n",
       "      <td>0.997882</td>\n",
       "      <td>0.983616</td>\n",
       "    </tr>\n",
       "    <tr>\n",
       "      <th>1</th>\n",
       "      <td>0.000348</td>\n",
       "      <td>0.000348</td>\n",
       "      <td>0.000093</td>\n",
       "      <td>0.000076</td>\n",
       "      <td>0.000106</td>\n",
       "      <td>0.000348</td>\n",
       "      <td>0.000025</td>\n",
       "      <td>0.00007</td>\n",
       "      <td>0.000070</td>\n",
       "      <td>0.000141</td>\n",
       "      <td>0.000100</td>\n",
       "      <td>0.000046</td>\n",
       "      <td>0.000123</td>\n",
       "    </tr>\n",
       "  </tbody>\n",
       "</table>\n",
       "</div>"
      ],
      "text/plain": [
       "   is_poor_0  is_poor_1  is_poor_2  is_poor_3  is_poor_4  is_poor_5  \\\n",
       "0   0.923226   0.923226   0.994279   0.986550   0.982553   0.923226   \n",
       "1   0.000348   0.000348   0.000093   0.000076   0.000106   0.000348   \n",
       "\n",
       "   is_poor_6  is_poor_7  is_poor_8  is_poor_9  is_poor_10  is_poor_11  \\\n",
       "0   0.977091    0.96437   0.997867   0.987687    0.992923    0.997882   \n",
       "1   0.000025    0.00007   0.000070   0.000141    0.000100    0.000046   \n",
       "\n",
       "   is_poor_12  \n",
       "0    0.983616  \n",
       "1    0.000123  "
      ]
     },
     "execution_count": 5,
     "metadata": {},
     "output_type": "execute_result"
    }
   ],
   "source": [
    "concat_sub.iloc[:,2:15].head(2)"
   ]
  },
  {
   "cell_type": "code",
   "execution_count": 6,
   "metadata": {
    "collapsed": true
   },
   "outputs": [],
   "source": [
    "concat_sub['poor'] = concat_sub.iloc[:,2:15].mean(axis = 1)"
   ]
  },
  {
   "cell_type": "code",
   "execution_count": 7,
   "metadata": {
    "collapsed": true
   },
   "outputs": [],
   "source": [
    "a = concat_sub[['id','country','poor']]"
   ]
  },
  {
   "cell_type": "code",
   "execution_count": 8,
   "metadata": {
    "collapsed": true
   },
   "outputs": [],
   "source": [
    "a.to_csv(\"a_1.csv\")"
   ]
  },
  {
   "cell_type": "code",
   "execution_count": null,
   "metadata": {
    "collapsed": true
   },
   "outputs": [],
   "source": [
    "# get the data fields ready for stacking\n",
    "concat_sub['is_poor_max'] = concat_sub.iloc[:, 2:18].max(axis=1)\n",
    "concat_sub['is_poor_min'] = concat_sub.iloc[:, 2:18].min(axis=1)\n",
    "concat_sub['is_poor_mean'] = concat_sub.iloc[:, 2:18].mean(axis=1)\n",
    "concat_sub['is_poor_median'] = concat_sub.iloc[:, 2:18].median(axis=1)"
   ]
  },
  {
   "cell_type": "code",
   "execution_count": null,
   "metadata": {
    "collapsed": true
   },
   "outputs": [],
   "source": [
    "# set up cutoff threshold for lower and upper bounds, easy to twist \n",
    "cutoff_lo = 0.8\n",
    "cutoff_hi = 0.2"
   ]
  },
  {
   "cell_type": "code",
   "execution_count": null,
   "metadata": {
    "collapsed": true
   },
   "outputs": [],
   "source": [
    "concat_sub.head()"
   ]
  },
  {
   "cell_type": "markdown",
   "metadata": {},
   "source": [
    "### Change the column names "
   ]
  },
  {
   "cell_type": "markdown",
   "metadata": {},
   "source": [
    "###### Mean Stacking"
   ]
  },
  {
   "cell_type": "code",
   "execution_count": null,
   "metadata": {
    "collapsed": true
   },
   "outputs": [],
   "source": [
    "concat_sub['is_poor'] = concat_sub['is_poor_mean']\n",
    "concat_sub[['id','country', 'is_poor']].to_csv('stack_mean.csv', \n",
    "                                        index=False, float_format='%.6f')"
   ]
  },
  {
   "cell_type": "markdown",
   "metadata": {},
   "source": [
    "###### Median Stacking"
   ]
  },
  {
   "cell_type": "code",
   "execution_count": null,
   "metadata": {
    "collapsed": true
   },
   "outputs": [],
   "source": [
    "concat_sub['is_poor'] = concat_sub['is_poor_median']\n",
    "concat_sub[['id','country', 'is_poor']].to_csv('stack_median.csv', \n",
    "                                        index=False, float_format='%.6f')"
   ]
  },
  {
   "cell_type": "markdown",
   "metadata": {},
   "source": [
    "###### PushOut + Median Stacking\n",
    "Pushout strategy is a bit agressive given what it does..."
   ]
  },
  {
   "cell_type": "code",
   "execution_count": null,
   "metadata": {
    "collapsed": true
   },
   "outputs": [],
   "source": [
    "concat_sub['is_poor'] = np.where(np.all(concat_sub.iloc[:,1:6] > cutoff_lo, axis=1), 1, \n",
    "                                    np.where(np.all(concat_sub.iloc[:,1:6] < cutoff_hi, axis=1),\n",
    "                                             0, concat_sub['is_poor_median']))\n",
    "concat_sub[['id','country', 'is_poor']].to_csv('stack_pushout_median.csv', \n",
    "                                        index=False, float_format='%.6f')"
   ]
  },
  {
   "cell_type": "markdown",
   "metadata": {},
   "source": [
    "###### MinMax + Mean Stacking\n",
    "MinMax seems more gentle and it outperforms the previous one given its peformance score."
   ]
  },
  {
   "cell_type": "code",
   "execution_count": null,
   "metadata": {
    "collapsed": true
   },
   "outputs": [],
   "source": [
    "concat_sub['is_poor'] = np.where(np.all(concat_sub.iloc[:,1:6] > cutoff_lo, axis=1), \n",
    "                                    concat_sub['is_poor_max'], \n",
    "                                    np.where(np.all(concat_sub.iloc[:,1:6] < cutoff_hi, axis=1),\n",
    "                                             concat_sub['is_poor_min'], \n",
    "                                             concat_sub['is_poor_mean']))\n",
    "concat_sub[['id','country', 'is_poor']].to_csv('stack_minmax_mean.csv', \n",
    "                                        index=False, float_format='%.6f')"
   ]
  },
  {
   "cell_type": "markdown",
   "metadata": {},
   "source": [
    "###### MinMax + Median Stacking"
   ]
  },
  {
   "cell_type": "code",
   "execution_count": null,
   "metadata": {
    "collapsed": true
   },
   "outputs": [],
   "source": [
    "concat_sub['is_poor'] = np.where(np.all(concat_sub.iloc[:,1:6] > cutoff_lo, axis=1), \n",
    "                                    concat_sub['is_poor_max'], \n",
    "                                    np.where(np.all(concat_sub.iloc[:,1:6] < cutoff_hi, axis=1),\n",
    "                                             concat_sub['is_poor_min'], \n",
    "                                             concat_sub['is_poor_median']))\n",
    "concat_sub[['id','country', 'is_poor']].to_csv('stack_minmax_median.csv', \n",
    "                                        index=False, float_format='%.6f')"
   ]
  },
  {
   "cell_type": "markdown",
   "metadata": {},
   "source": [
    "###### MinMax + BestBase Stacking"
   ]
  },
  {
   "cell_type": "code",
   "execution_count": null,
   "metadata": {
    "collapsed": true
   },
   "outputs": [],
   "source": [
    "# load the model with best base performance\n",
    "sub_base = pd.read_csv(r\"C:\\Users\\pvaish10\\Desktop\\csv_poverty\\submission_X_G_tr2.csv\")"
   ]
  },
  {
   "cell_type": "code",
   "execution_count": null,
   "metadata": {
    "collapsed": true
   },
   "outputs": [],
   "source": [
    "concat_sub['is_poor_base'] = sub_base['poor']\n",
    "concat_sub['is_poor'] = np.where(np.all(concat_sub.iloc[:,1:6] > cutoff_lo, axis=1), \n",
    "                                    concat_sub['is_poor_max'], \n",
    "                                    np.where(np.all(concat_sub.iloc[:,1:6] < cutoff_hi, axis=1),\n",
    "                                             concat_sub['is_poor_min'], \n",
    "                                             concat_sub['is_poor_base']))\n",
    "concat_sub[['id','country', 'is_poor']].to_csv('stack_minmax_bestbase.csv', \n",
    "                                        index=False, float_format='%.6f')"
   ]
  },
  {
   "cell_type": "code",
   "execution_count": null,
   "metadata": {
    "collapsed": true
   },
   "outputs": [],
   "source": []
  }
 ],
 "metadata": {
  "anaconda-cloud": {},
  "kernelspec": {
   "display_name": "Python [default]",
   "language": "python",
   "name": "python3"
  },
  "language_info": {
   "codemirror_mode": {
    "name": "ipython",
    "version": 3
   },
   "file_extension": ".py",
   "mimetype": "text/x-python",
   "name": "python",
   "nbconvert_exporter": "python",
   "pygments_lexer": "ipython3",
   "version": "3.5.1"
  }
 },
 "nbformat": 4,
 "nbformat_minor": 2
}
