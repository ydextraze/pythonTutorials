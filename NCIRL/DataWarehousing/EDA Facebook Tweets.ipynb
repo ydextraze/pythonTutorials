{
 "cells": [
  {
   "cell_type": "code",
   "execution_count": 43,
   "metadata": {
    "collapsed": true
   },
   "outputs": [],
   "source": [
    "import json"
   ]
  },
  {
   "cell_type": "code",
   "execution_count": 45,
   "metadata": {},
   "outputs": [
    {
     "name": "stdout",
     "output_type": "stream",
     "text": [
      "{\n",
      "    \"retweeted\": false,\n",
      "    \"lang\": \"en\",\n",
      "    \"id\": 980955464509902848,\n",
      "    \"favorited\": false,\n",
      "    \"favorite_count\": 1,\n",
      "    \"text\": \"Further downward pressure on Facebook shares which in turn puts pressure on Nasdaq. @TheBubbleBubble https://t.co/fVP9A4XQ5L\",\n",
      "    \"id_str\": \"980955464509902848\",\n",
      "    \"user\": {\n",
      "        \"lang\": \"en\",\n",
      "        \"is_translator\": false,\n",
      "        \"id\": 1223841954,\n",
      "        \"profile_background_image_url\": \"http://abs.twimg.com/images/themes/theme1/bg.png\",\n",
      "        \"profile_text_color\": \"333333\",\n",
      "        \"profile_link_color\": \"1DA1F2\",\n",
      "        \"verified\": false,\n",
      "        \"profile_image_url_https\": \"https://pbs.twimg.com/profile_images/962951482466283525/mnST2dgO_normal.jpg\",\n",
      "        \"id_str\": \"1223841954\",\n",
      "        \"following\": false,\n",
      "        \"friends_count\": 618,\n",
      "        \"default_profile\": true,\n",
      "        \"profile_background_tile\": false,\n",
      "        \"followers_count\": 626,\n",
      "        \"profile_background_image_url_https\": \"https://abs.twimg.com/images/themes/theme1/bg.png\",\n",
      "        \"statuses_count\": 23078,\n",
      "        \"description\": \"Author, lecturer, public speaker and Equity/FX analyst interviewed on business channels - BBC, Bloomberg, CNBC, CNN, Core & SKY over the last 15 years.\",\n",
      "        \"contributors_enabled\": false,\n",
      "        \"utc_offset\": 3600,\n",
      "        \"notifications\": false,\n",
      "        \"has_extended_profile\": true,\n",
      "        \"profile_sidebar_fill_color\": \"DDEEF6\",\n",
      "        \"profile_background_color\": \"C0DEED\",\n",
      "        \"profile_use_background_image\": true,\n",
      "        \"follow_request_sent\": false,\n",
      "        \"translator_type\": \"none\",\n",
      "        \"url\": null,\n",
      "        \"protected\": false,\n",
      "        \"created_at\": \"Wed Feb 27 07:26:38 +0000 2013\",\n",
      "        \"entities\": {\n",
      "            \"description\": {\n",
      "                \"urls\": []\n",
      "            }\n",
      "        },\n",
      "        \"location\": \"London, England\",\n",
      "        \"screen_name\": \"RonnieChopra1\",\n",
      "        \"favourites_count\": 14987,\n",
      "        \"time_zone\": \"Casablanca\",\n",
      "        \"geo_enabled\": false,\n",
      "        \"is_translation_enabled\": false,\n",
      "        \"default_profile_image\": false,\n",
      "        \"name\": \"Ronnie Chopra\",\n",
      "        \"profile_sidebar_border_color\": \"C0DEED\",\n",
      "        \"profile_image_url\": \"http://pbs.twimg.com/profile_images/962951482466283525/mnST2dgO_normal.jpg\",\n",
      "        \"listed_count\": 7\n",
      "    },\n",
      "    \"coordinates\": null,\n",
      "    \"is_quote_status\": true,\n",
      "    \"in_reply_to_status_id_str\": null,\n",
      "    \"metadata\": {\n",
      "        \"iso_language_code\": \"en\",\n",
      "        \"result_type\": \"recent\"\n",
      "    },\n",
      "    \"truncated\": false,\n",
      "    \"contributors\": null,\n",
      "    \"created_at\": \"Mon Apr 02 23:49:42 +0000 2018\",\n",
      "    \"in_reply_to_user_id_str\": null,\n",
      "    \"quoted_status\": {\n",
      "        \"retweeted\": false,\n",
      "        \"lang\": \"en\",\n",
      "        \"id\": 980955098544295936,\n",
      "        \"favorited\": false,\n",
      "        \"text\": \"Indonesia threatens to shut down Facebook if citizens' privacy is breached https://t.co/Mv9x7U0eFR https://t.co/H2OShrMAVw\",\n",
      "        \"id_str\": \"980955098544295936\",\n",
      "        \"user\": {\n",
      "            \"lang\": \"en\",\n",
      "            \"is_translator\": false,\n",
      "            \"id\": 34713362,\n",
      "            \"profile_background_image_url\": \"http://pbs.twimg.com/profile_background_images/544322097833467904/1fjpNCr9.jpeg\",\n",
      "            \"profile_text_color\": \"666666\",\n",
      "            \"profile_link_color\": \"3B94D9\",\n",
      "            \"verified\": true,\n",
      "            \"profile_image_url_https\": \"https://pbs.twimg.com/profile_images/714946924105883648/4fgNVF4H_normal.jpg\",\n",
      "            \"id_str\": \"34713362\",\n",
      "            \"following\": false,\n",
      "            \"friends_count\": 1103,\n",
      "            \"default_profile\": false,\n",
      "            \"profile_background_tile\": true,\n",
      "            \"followers_count\": 4695144,\n",
      "            \"profile_background_image_url_https\": \"https://pbs.twimg.com/profile_background_images/544322097833467904/1fjpNCr9.jpeg\",\n",
      "            \"statuses_count\": 331256,\n",
      "            \"description\": \"The first word in business news.\",\n",
      "            \"contributors_enabled\": false,\n",
      "            \"utc_offset\": -14400,\n",
      "            \"notifications\": false,\n",
      "            \"has_extended_profile\": false,\n",
      "            \"profile_sidebar_fill_color\": \"EEEEEE\",\n",
      "            \"profile_background_color\": \"101112\",\n",
      "            \"profile_use_background_image\": true,\n",
      "            \"follow_request_sent\": false,\n",
      "            \"profile_banner_url\": \"https://pbs.twimg.com/profile_banners/34713362/1503349279\",\n",
      "            \"translator_type\": \"none\",\n",
      "            \"url\": \"http://t.co/YFISwy1upH\",\n",
      "            \"protected\": false,\n",
      "            \"created_at\": \"Thu Apr 23 20:05:17 +0000 2009\",\n",
      "            \"entities\": {\n",
      "                \"description\": {\n",
      "                    \"urls\": []\n",
      "                },\n",
      "                \"url\": {\n",
      "                    \"urls\": [\n",
      "                        {\n",
      "                            \"display_url\": \"bloomberg.com\",\n",
      "                            \"expanded_url\": \"http://www.bloomberg.com\",\n",
      "                            \"url\": \"http://t.co/YFISwy1upH\",\n",
      "                            \"indices\": [\n",
      "                                0,\n",
      "                                22\n",
      "                            ]\n",
      "                        }\n",
      "                    ]\n",
      "                }\n",
      "            },\n",
      "            \"location\": \"New York and the World\",\n",
      "            \"screen_name\": \"business\",\n",
      "            \"favourites_count\": 344,\n",
      "            \"time_zone\": \"Eastern Time (US & Canada)\",\n",
      "            \"geo_enabled\": false,\n",
      "            \"is_translation_enabled\": true,\n",
      "            \"default_profile_image\": false,\n",
      "            \"name\": \"Bloomberg\",\n",
      "            \"profile_sidebar_border_color\": \"DADADA\",\n",
      "            \"profile_image_url\": \"http://pbs.twimg.com/profile_images/714946924105883648/4fgNVF4H_normal.jpg\",\n",
      "            \"listed_count\": 47420\n",
      "        },\n",
      "        \"coordinates\": null,\n",
      "        \"is_quote_status\": false,\n",
      "        \"in_reply_to_status_id_str\": null,\n",
      "        \"metadata\": {\n",
      "            \"iso_language_code\": \"en\",\n",
      "            \"result_type\": \"recent\"\n",
      "        },\n",
      "        \"truncated\": false,\n",
      "        \"contributors\": null,\n",
      "        \"created_at\": \"Mon Apr 02 23:48:15 +0000 2018\",\n",
      "        \"in_reply_to_user_id_str\": null,\n",
      "        \"source\": \"<a href=\\\"http://www.socialflow.com\\\" rel=\\\"nofollow\\\">SocialFlow</a>\",\n",
      "        \"in_reply_to_status_id\": null,\n",
      "        \"extended_entities\": {\n",
      "            \"media\": [\n",
      "                {\n",
      "                    \"type\": \"photo\",\n",
      "                    \"display_url\": \"pic.twitter.com/H2OShrMAVw\",\n",
      "                    \"id\": 980955096120020998,\n",
      "                    \"expanded_url\": \"https://twitter.com/business/status/980955098544295936/photo/1\",\n",
      "                    \"media_url\": \"http://pbs.twimg.com/media/DZ0NdmzX0AYQz6x.jpg\",\n",
      "                    \"media_url_https\": \"https://pbs.twimg.com/media/DZ0NdmzX0AYQz6x.jpg\",\n",
      "                    \"url\": \"https://t.co/H2OShrMAVw\",\n",
      "                    \"id_str\": \"980955096120020998\",\n",
      "                    \"indices\": [\n",
      "                        99,\n",
      "                        122\n",
      "                    ],\n",
      "                    \"sizes\": {\n",
      "                        \"thumb\": {\n",
      "                            \"h\": 150,\n",
      "                            \"w\": 150,\n",
      "                            \"resize\": \"crop\"\n",
      "                        },\n",
      "                        \"large\": {\n",
      "                            \"h\": 800,\n",
      "                            \"w\": 1200,\n",
      "                            \"resize\": \"fit\"\n",
      "                        },\n",
      "                        \"small\": {\n",
      "                            \"h\": 453,\n",
      "                            \"w\": 680,\n",
      "                            \"resize\": \"fit\"\n",
      "                        },\n",
      "                        \"medium\": {\n",
      "                            \"h\": 800,\n",
      "                            \"w\": 1200,\n",
      "                            \"resize\": \"fit\"\n",
      "                        }\n",
      "                    }\n",
      "                }\n",
      "            ]\n",
      "        },\n",
      "        \"place\": null,\n",
      "        \"retweet_count\": 49,\n",
      "        \"geo\": null,\n",
      "        \"in_reply_to_screen_name\": null,\n",
      "        \"entities\": {\n",
      "            \"urls\": [\n",
      "                {\n",
      "                    \"display_url\": \"bloom.bg/2q0pbpb\",\n",
      "                    \"expanded_url\": \"https://bloom.bg/2q0pbpb\",\n",
      "                    \"url\": \"https://t.co/Mv9x7U0eFR\",\n",
      "                    \"indices\": [\n",
      "                        75,\n",
      "                        98\n",
      "                    ]\n",
      "                }\n",
      "            ],\n",
      "            \"hashtags\": [],\n",
      "            \"symbols\": [],\n",
      "            \"media\": [\n",
      "                {\n",
      "                    \"type\": \"photo\",\n",
      "                    \"display_url\": \"pic.twitter.com/H2OShrMAVw\",\n",
      "                    \"id\": 980955096120020998,\n",
      "                    \"expanded_url\": \"https://twitter.com/business/status/980955098544295936/photo/1\",\n",
      "                    \"media_url\": \"http://pbs.twimg.com/media/DZ0NdmzX0AYQz6x.jpg\",\n",
      "                    \"media_url_https\": \"https://pbs.twimg.com/media/DZ0NdmzX0AYQz6x.jpg\",\n",
      "                    \"url\": \"https://t.co/H2OShrMAVw\",\n",
      "                    \"id_str\": \"980955096120020998\",\n",
      "                    \"indices\": [\n",
      "                        99,\n",
      "                        122\n",
      "                    ],\n",
      "                    \"sizes\": {\n",
      "                        \"thumb\": {\n",
      "                            \"h\": 150,\n",
      "                            \"w\": 150,\n",
      "                            \"resize\": \"crop\"\n",
      "                        },\n",
      "                        \"large\": {\n",
      "                            \"h\": 800,\n",
      "                            \"w\": 1200,\n",
      "                            \"resize\": \"fit\"\n",
      "                        },\n",
      "                        \"small\": {\n",
      "                            \"h\": 453,\n",
      "                            \"w\": 680,\n",
      "                            \"resize\": \"fit\"\n",
      "                        },\n",
      "                        \"medium\": {\n",
      "                            \"h\": 800,\n",
      "                            \"w\": 1200,\n",
      "                            \"resize\": \"fit\"\n",
      "                        }\n",
      "                    }\n",
      "                }\n",
      "            ],\n",
      "            \"user_mentions\": []\n",
      "        },\n",
      "        \"favorite_count\": 51,\n",
      "        \"possibly_sensitive\": false,\n",
      "        \"in_reply_to_user_id\": null\n",
      "    },\n",
      "    \"source\": \"<a href=\\\"http://twitter.com\\\" rel=\\\"nofollow\\\">Twitter Web Client</a>\",\n",
      "    \"in_reply_to_status_id\": null,\n",
      "    \"place\": null,\n",
      "    \"retweet_count\": 0,\n",
      "    \"geo\": null,\n",
      "    \"in_reply_to_screen_name\": null,\n",
      "    \"entities\": {\n",
      "        \"urls\": [\n",
      "            {\n",
      "                \"display_url\": \"twitter.com/business/statu\\u2026\",\n",
      "                \"expanded_url\": \"https://twitter.com/business/status/980955098544295936\",\n",
      "                \"url\": \"https://t.co/fVP9A4XQ5L\",\n",
      "                \"indices\": [\n",
      "                    101,\n",
      "                    124\n",
      "                ]\n",
      "            }\n",
      "        ],\n",
      "        \"hashtags\": [],\n",
      "        \"symbols\": [],\n",
      "        \"user_mentions\": [\n",
      "            {\n",
      "                \"screen_name\": \"TheBubbleBubble\",\n",
      "                \"name\": \"Jesse Colombo\",\n",
      "                \"id\": 320524842,\n",
      "                \"id_str\": \"320524842\",\n",
      "                \"indices\": [\n",
      "                    84,\n",
      "                    100\n",
      "                ]\n",
      "            }\n",
      "        ]\n",
      "    },\n",
      "    \"quoted_status_id\": 980955098544295936,\n",
      "    \"quoted_status_id_str\": \"980955098544295936\",\n",
      "    \"possibly_sensitive\": false,\n",
      "    \"in_reply_to_user_id\": null\n",
      "}\n"
     ]
    }
   ],
   "source": [
    "with open(r'C:\\Users\\piush\\Desktop\\Facebook Data\\Facebook\\Facebook_2018-03-25_to_2018-04-02.json', 'r') as f:\n",
    "    line = f.readline() # read only the first tweet/line\n",
    "    tweet = json.loads(line) # load it as Python dict\n",
    "    print(json.dumps(tweet, indent=4)) # pretty-print"
   ]
  },
  {
   "cell_type": "markdown",
   "metadata": {},
   "source": [
    "https://marcobonzanini.com/2015/03/09/mining-twitter-data-with-python-part-2/"
   ]
  },
  {
   "cell_type": "code",
   "execution_count": 46,
   "metadata": {
    "collapsed": true
   },
   "outputs": [],
   "source": [
    "from nltk.tokenize import word_tokenize"
   ]
  },
  {
   "cell_type": "code",
   "execution_count": 47,
   "metadata": {
    "collapsed": true
   },
   "outputs": [],
   "source": [
    "import re\n",
    " \n",
    "emoticons_str = r\"\"\"\n",
    "    (?:\n",
    "        [:=;] # Eyes\n",
    "        [oO\\-]? # Nose (optional)\n",
    "        [D\\)\\]\\(\\]/\\\\OpP] # Mouth\n",
    "    )\"\"\"\n",
    " \n",
    "regex_str = [\n",
    "    emoticons_str,\n",
    "    r'<[^>]+>', # HTML tags\n",
    "    r'(?:@[\\w_]+)', # @-mentions\n",
    "    r\"(?:\\#+[\\w_]+[\\w\\'_\\-]*[\\w_]+)\", # hash-tags\n",
    "    r'http[s]?://(?:[a-z]|[0-9]|[$-_@.&amp;+]|[!*\\(\\),]|(?:%[0-9a-f][0-9a-f]))+', # URLs\n",
    " \n",
    "    r'(?:(?:\\d+,?)+(?:\\.?\\d+)?)', # numbers\n",
    "    r\"(?:[a-z][a-z'\\-_]+[a-z])\", # words with - and '\n",
    "    r'(?:[\\w_]+)', # other words\n",
    "    r'(?:\\S)' # anything else\n",
    "]\n",
    "    \n",
    "tokens_re = re.compile(r'('+'|'.join(regex_str)+')', re.VERBOSE | re.IGNORECASE)\n",
    "emoticon_re = re.compile(r'^'+emoticons_str+'$', re.VERBOSE | re.IGNORECASE)\n",
    " \n",
    "def tokenize(s):\n",
    "    return tokens_re.findall(s)\n",
    " \n",
    "def preprocess(s, lowercase=False):\n",
    "    tokens = tokenize(s)\n",
    "    if lowercase:\n",
    "        tokens = [token if emoticon_re.search(token) else token.lower() for token in tokens]\n",
    "    return tokens\n",
    " \n",
    "\n"
   ]
  },
  {
   "cell_type": "code",
   "execution_count": 49,
   "metadata": {},
   "outputs": [],
   "source": [
    "with open(r'C:\\Users\\piush\\Desktop\\Facebook Data\\Facebook\\Facebook_2018-03-25_to_2018-04-02.json', 'r') as f:\n",
    "    for line in f:\n",
    "        tweet = json.loads(line)\n",
    "        tokens = preprocess(tweet['text'])\n",
    "        #do_something_else(tokens)"
   ]
  },
  {
   "cell_type": "code",
   "execution_count": 50,
   "metadata": {},
   "outputs": [
    {
     "data": {
      "text/plain": [
       "['Facebook',\n",
       " 'demorou',\n",
       " '4',\n",
       " 'anos',\n",
       " 'pra',\n",
       " 'descobrir',\n",
       " 'que',\n",
       " 'MBL',\n",
       " 'e',\n",
       " 'assemelhados',\n",
       " 'propagam',\n",
       " 'fake',\n",
       " 'News',\n",
       " '.',\n",
       " 'Tarde',\n",
       " 'demais',\n",
       " ',',\n",
       " 'já',\n",
       " 'fizeram',\n",
       " 'muito',\n",
       " 'es',\n",
       " '…',\n",
       " 'https://t.co/BTYrPwuj4R']"
      ]
     },
     "execution_count": 50,
     "metadata": {},
     "output_type": "execute_result"
    }
   ],
   "source": [
    "tokens"
   ]
  },
  {
   "cell_type": "code",
   "execution_count": 51,
   "metadata": {},
   "outputs": [],
   "source": [
    "tweet_facebook = pd.read_json(r'C:\\Users\\piush\\Desktop\\Facebook Data\\Facebook\\Facebook_2018-03-25_to_2018-04-02.json', lines=True)"
   ]
  },
  {
   "cell_type": "code",
   "execution_count": 52,
   "metadata": {
    "collapsed": true
   },
   "outputs": [],
   "source": [
    "tweet_facebook.to_csv(\"tweets_facebook.csv\", index = False)"
   ]
  },
  {
   "cell_type": "code",
   "execution_count": 55,
   "metadata": {},
   "outputs": [],
   "source": [
    "df = pd.read_csv(\"tweets_facebook.csv\", encoding = \"ISO-8859-1\")"
   ]
  },
  {
   "cell_type": "markdown",
   "metadata": {},
   "source": [
    "##### Missing Values"
   ]
  },
  {
   "cell_type": "code",
   "execution_count": 58,
   "metadata": {},
   "outputs": [
    {
     "data": {
      "text/plain": [
       "True"
      ]
     },
     "execution_count": 58,
     "metadata": {},
     "output_type": "execute_result"
    }
   ],
   "source": [
    "df.isnull().values.any()"
   ]
  },
  {
   "cell_type": "code",
   "execution_count": 59,
   "metadata": {},
   "outputs": [
    {
     "data": {
      "text/plain": [
       "contributors                  True\n",
       "coordinates                   True\n",
       "created_at                   False\n",
       "entities                     False\n",
       "extended_entities             True\n",
       "favorite_count               False\n",
       "favorited                    False\n",
       "geo                           True\n",
       "id                           False\n",
       "id_str                       False\n",
       "in_reply_to_screen_name       True\n",
       "in_reply_to_status_id         True\n",
       "in_reply_to_status_id_str     True\n",
       "in_reply_to_user_id           True\n",
       "in_reply_to_user_id_str       True\n",
       "is_quote_status              False\n",
       "lang                         False\n",
       "metadata                     False\n",
       "place                         True\n",
       "possibly_sensitive            True\n",
       "quoted_status                 True\n",
       "quoted_status_id              True\n",
       "quoted_status_id_str          True\n",
       "retweet_count                False\n",
       "retweeted                    False\n",
       "retweeted_status              True\n",
       "source                       False\n",
       "text                         False\n",
       "truncated                    False\n",
       "user                         False\n",
       "dtype: bool"
      ]
     },
     "execution_count": 59,
     "metadata": {},
     "output_type": "execute_result"
    }
   ],
   "source": [
    "df.isnull().any()"
   ]
  },
  {
   "cell_type": "code",
   "execution_count": 61,
   "metadata": {},
   "outputs": [],
   "source": [
    "df_no_missing = df.dropna(axis = 1)"
   ]
  },
  {
   "cell_type": "code",
   "execution_count": 68,
   "metadata": {},
   "outputs": [],
   "source": [
    "df_no_missing.to_csv(\"clean_facebook_tweets.csv\")"
   ]
  },
  {
   "cell_type": "code",
   "execution_count": 69,
   "metadata": {},
   "outputs": [
    {
     "data": {
      "text/plain": [
       "Index(['created_at', 'entities', 'favorite_count', 'favorited', 'id', 'id_str',\n",
       "       'is_quote_status', 'lang', 'metadata', 'retweet_count', 'retweeted',\n",
       "       'source', 'text', 'truncated', 'user'],\n",
       "      dtype='object')"
      ]
     },
     "execution_count": 69,
     "metadata": {},
     "output_type": "execute_result"
    }
   ],
   "source": [
    "df_no_missing.columns"
   ]
  },
  {
   "cell_type": "code",
   "execution_count": 73,
   "metadata": {},
   "outputs": [
    {
     "data": {
      "text/html": [
       "<div>\n",
       "<style>\n",
       "    .dataframe thead tr:only-child th {\n",
       "        text-align: right;\n",
       "    }\n",
       "\n",
       "    .dataframe thead th {\n",
       "        text-align: left;\n",
       "    }\n",
       "\n",
       "    .dataframe tbody tr th {\n",
       "        vertical-align: top;\n",
       "    }\n",
       "</style>\n",
       "<table border=\"1\" class=\"dataframe\">\n",
       "  <thead>\n",
       "    <tr style=\"text-align: right;\">\n",
       "      <th></th>\n",
       "      <th>created_at</th>\n",
       "      <th>entities</th>\n",
       "      <th>favorite_count</th>\n",
       "      <th>favorited</th>\n",
       "      <th>id</th>\n",
       "      <th>id_str</th>\n",
       "      <th>is_quote_status</th>\n",
       "      <th>lang</th>\n",
       "      <th>metadata</th>\n",
       "      <th>retweet_count</th>\n",
       "      <th>retweeted</th>\n",
       "      <th>source</th>\n",
       "      <th>text</th>\n",
       "      <th>truncated</th>\n",
       "      <th>user</th>\n",
       "    </tr>\n",
       "  </thead>\n",
       "  <tbody>\n",
       "    <tr>\n",
       "      <th>1257</th>\n",
       "      <td>2018-03-25 20:01:57</td>\n",
       "      <td>{'urls': [], 'hashtags': [], 'symbols': [], 'u...</td>\n",
       "      <td>0</td>\n",
       "      <td>False</td>\n",
       "      <td>977999046861352961</td>\n",
       "      <td>977999046861352960</td>\n",
       "      <td>False</td>\n",
       "      <td>en</td>\n",
       "      <td>{'iso_language_code': 'en', 'result_type': 're...</td>\n",
       "      <td>89</td>\n",
       "      <td>False</td>\n",
       "      <td>&lt;a href=\"http://twitter.com/#!/download/ipad\" ...</td>\n",
       "      <td>RT @Nasdaq: ?? The Dow is above 25,000 today\\r...</td>\n",
       "      <td>False</td>\n",
       "      <td>{'lang': 'ru', 'is_translator': False, 'id': 2...</td>\n",
       "    </tr>\n",
       "  </tbody>\n",
       "</table>\n",
       "</div>"
      ],
      "text/plain": [
       "               created_at                                           entities  \\\n",
       "1257  2018-03-25 20:01:57  {'urls': [], 'hashtags': [], 'symbols': [], 'u...   \n",
       "\n",
       "      favorite_count  favorited                  id              id_str  \\\n",
       "1257               0      False  977999046861352961  977999046861352960   \n",
       "\n",
       "      is_quote_status lang                                           metadata  \\\n",
       "1257            False   en  {'iso_language_code': 'en', 'result_type': 're...   \n",
       "\n",
       "      retweet_count  retweeted  \\\n",
       "1257             89      False   \n",
       "\n",
       "                                                 source  \\\n",
       "1257  <a href=\"http://twitter.com/#!/download/ipad\" ...   \n",
       "\n",
       "                                                   text  truncated  \\\n",
       "1257  RT @Nasdaq: ?? The Dow is above 25,000 today\\r...      False   \n",
       "\n",
       "                                                   user  \n",
       "1257  {'lang': 'ru', 'is_translator': False, 'id': 2...  "
      ]
     },
     "execution_count": 73,
     "metadata": {},
     "output_type": "execute_result"
    }
   ],
   "source": [
    "df_no_missing[df_no_missing['retweet_count'] == 89]"
   ]
  },
  {
   "cell_type": "code",
   "execution_count": 74,
   "metadata": {},
   "outputs": [
    {
     "data": {
      "text/plain": [
       "50"
      ]
     },
     "execution_count": 74,
     "metadata": {},
     "output_type": "execute_result"
    }
   ],
   "source": [
    "df_no_missing['favorite_count'].max()"
   ]
  },
  {
   "cell_type": "code",
   "execution_count": 75,
   "metadata": {},
   "outputs": [
    {
     "data": {
      "text/html": [
       "<div>\n",
       "<style>\n",
       "    .dataframe thead tr:only-child th {\n",
       "        text-align: right;\n",
       "    }\n",
       "\n",
       "    .dataframe thead th {\n",
       "        text-align: left;\n",
       "    }\n",
       "\n",
       "    .dataframe tbody tr th {\n",
       "        vertical-align: top;\n",
       "    }\n",
       "</style>\n",
       "<table border=\"1\" class=\"dataframe\">\n",
       "  <thead>\n",
       "    <tr style=\"text-align: right;\">\n",
       "      <th></th>\n",
       "      <th>created_at</th>\n",
       "      <th>entities</th>\n",
       "      <th>favorite_count</th>\n",
       "      <th>favorited</th>\n",
       "      <th>id</th>\n",
       "      <th>id_str</th>\n",
       "      <th>is_quote_status</th>\n",
       "      <th>lang</th>\n",
       "      <th>metadata</th>\n",
       "      <th>retweet_count</th>\n",
       "      <th>retweeted</th>\n",
       "      <th>source</th>\n",
       "      <th>text</th>\n",
       "      <th>truncated</th>\n",
       "      <th>user</th>\n",
       "    </tr>\n",
       "  </thead>\n",
       "  <tbody>\n",
       "    <tr>\n",
       "      <th>986</th>\n",
       "      <td>2018-03-27 13:33:43</td>\n",
       "      <td>{'urls': [{'display_url': 'cnnmon.ie/bkgnews',...</td>\n",
       "      <td>50</td>\n",
       "      <td>False</td>\n",
       "      <td>978626119040749568</td>\n",
       "      <td>978626119040749568</td>\n",
       "      <td>False</td>\n",
       "      <td>en</td>\n",
       "      <td>{'iso_language_code': 'en', 'result_type': 're...</td>\n",
       "      <td>37</td>\n",
       "      <td>False</td>\n",
       "      <td>&lt;a href=\"http://money.cnn.com/\" rel=\"nofollow\"...</td>\n",
       "      <td>Dow opens solidly higher after best day since ...</td>\n",
       "      <td>False</td>\n",
       "      <td>{'lang': 'en', 'is_translator': False, 'id': 1...</td>\n",
       "    </tr>\n",
       "  </tbody>\n",
       "</table>\n",
       "</div>"
      ],
      "text/plain": [
       "              created_at                                           entities  \\\n",
       "986  2018-03-27 13:33:43  {'urls': [{'display_url': 'cnnmon.ie/bkgnews',...   \n",
       "\n",
       "     favorite_count  favorited                  id              id_str  \\\n",
       "986              50      False  978626119040749568  978626119040749568   \n",
       "\n",
       "     is_quote_status lang                                           metadata  \\\n",
       "986            False   en  {'iso_language_code': 'en', 'result_type': 're...   \n",
       "\n",
       "     retweet_count  retweeted  \\\n",
       "986             37      False   \n",
       "\n",
       "                                                source  \\\n",
       "986  <a href=\"http://money.cnn.com/\" rel=\"nofollow\"...   \n",
       "\n",
       "                                                  text  truncated  \\\n",
       "986  Dow opens solidly higher after best day since ...      False   \n",
       "\n",
       "                                                  user  \n",
       "986  {'lang': 'en', 'is_translator': False, 'id': 1...  "
      ]
     },
     "execution_count": 75,
     "metadata": {},
     "output_type": "execute_result"
    }
   ],
   "source": [
    "df_no_missing[df_no_missing['favorite_count'] == 50]"
   ]
  },
  {
   "cell_type": "code",
   "execution_count": null,
   "metadata": {
    "collapsed": true
   },
   "outputs": [],
   "source": [
    "1. Could be price of the stock on 25th March 2018 .. when there were the retweet_count\n",
    "2. Price of stock when the stock on 27th March 2018 when favorite_count was 50 (max)"
   ]
  }
 ],
 "metadata": {
  "kernelspec": {
   "display_name": "Python 3",
   "language": "python",
   "name": "python3"
  },
  "language_info": {
   "codemirror_mode": {
    "name": "ipython",
    "version": 3
   },
   "file_extension": ".py",
   "mimetype": "text/x-python",
   "name": "python",
   "nbconvert_exporter": "python",
   "pygments_lexer": "ipython3",
   "version": "3.6.2"
  }
 },
 "nbformat": 4,
 "nbformat_minor": 2
}
