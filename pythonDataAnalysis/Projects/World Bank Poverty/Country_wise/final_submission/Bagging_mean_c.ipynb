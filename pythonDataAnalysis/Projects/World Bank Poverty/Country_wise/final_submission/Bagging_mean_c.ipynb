{
 "cells": [
  {
   "cell_type": "code",
   "execution_count": 1,
   "metadata": {
    "collapsed": true
   },
   "outputs": [],
   "source": [
    "import os\n",
    "import numpy as np \n",
    "import pandas as pd"
   ]
  },
  {
   "cell_type": "code",
   "execution_count": 2,
   "metadata": {
    "collapsed": false
   },
   "outputs": [
    {
     "data": {
      "text/html": [
       "<div>\n",
       "<table border=\"1\" class=\"dataframe\">\n",
       "  <thead>\n",
       "    <tr style=\"text-align: right;\">\n",
       "      <th></th>\n",
       "      <th>id</th>\n",
       "      <th>country</th>\n",
       "      <th>is_poor_0</th>\n",
       "      <th>is_poor_1</th>\n",
       "      <th>is_poor_2</th>\n",
       "      <th>is_poor_3</th>\n",
       "      <th>is_poor_4</th>\n",
       "      <th>is_poor_5</th>\n",
       "      <th>is_poor_6</th>\n",
       "      <th>is_poor_7</th>\n",
       "      <th>is_poor_8</th>\n",
       "      <th>is_poor_9</th>\n",
       "      <th>is_poor_10</th>\n",
       "    </tr>\n",
       "  </thead>\n",
       "  <tbody>\n",
       "    <tr>\n",
       "      <th>0</th>\n",
       "      <td>6211</td>\n",
       "      <td>C</td>\n",
       "      <td>0.000122</td>\n",
       "      <td>0.000026</td>\n",
       "      <td>0.000110</td>\n",
       "      <td>0.000045</td>\n",
       "      <td>0.000633</td>\n",
       "      <td>0.000084</td>\n",
       "      <td>0.000080</td>\n",
       "      <td>0.000094</td>\n",
       "      <td>0.000461</td>\n",
       "      <td>0.000141</td>\n",
       "      <td>0.000223</td>\n",
       "    </tr>\n",
       "    <tr>\n",
       "      <th>1</th>\n",
       "      <td>77549</td>\n",
       "      <td>C</td>\n",
       "      <td>0.000122</td>\n",
       "      <td>0.000026</td>\n",
       "      <td>0.000020</td>\n",
       "      <td>0.000014</td>\n",
       "      <td>0.000086</td>\n",
       "      <td>0.000084</td>\n",
       "      <td>0.000059</td>\n",
       "      <td>0.000094</td>\n",
       "      <td>0.000040</td>\n",
       "      <td>0.000141</td>\n",
       "      <td>0.000127</td>\n",
       "    </tr>\n",
       "    <tr>\n",
       "      <th>2</th>\n",
       "      <td>34834</td>\n",
       "      <td>C</td>\n",
       "      <td>0.000028</td>\n",
       "      <td>0.000022</td>\n",
       "      <td>0.000020</td>\n",
       "      <td>0.000014</td>\n",
       "      <td>0.000036</td>\n",
       "      <td>0.000032</td>\n",
       "      <td>0.000023</td>\n",
       "      <td>0.000028</td>\n",
       "      <td>0.000040</td>\n",
       "      <td>0.000032</td>\n",
       "      <td>0.000009</td>\n",
       "    </tr>\n",
       "    <tr>\n",
       "      <th>3</th>\n",
       "      <td>74650</td>\n",
       "      <td>C</td>\n",
       "      <td>0.000028</td>\n",
       "      <td>0.000022</td>\n",
       "      <td>0.000020</td>\n",
       "      <td>0.000014</td>\n",
       "      <td>0.000036</td>\n",
       "      <td>0.000032</td>\n",
       "      <td>0.000023</td>\n",
       "      <td>0.000028</td>\n",
       "      <td>0.000040</td>\n",
       "      <td>0.000032</td>\n",
       "      <td>0.000102</td>\n",
       "    </tr>\n",
       "    <tr>\n",
       "      <th>4</th>\n",
       "      <td>65375</td>\n",
       "      <td>C</td>\n",
       "      <td>0.000145</td>\n",
       "      <td>0.000026</td>\n",
       "      <td>0.000199</td>\n",
       "      <td>0.000024</td>\n",
       "      <td>0.000417</td>\n",
       "      <td>0.001191</td>\n",
       "      <td>0.001674</td>\n",
       "      <td>0.000310</td>\n",
       "      <td>0.002492</td>\n",
       "      <td>0.000141</td>\n",
       "      <td>0.000369</td>\n",
       "    </tr>\n",
       "  </tbody>\n",
       "</table>\n",
       "</div>"
      ],
      "text/plain": [
       "      id country  is_poor_0  is_poor_1  is_poor_2  is_poor_3  is_poor_4  \\\n",
       "0   6211       C   0.000122   0.000026   0.000110   0.000045   0.000633   \n",
       "1  77549       C   0.000122   0.000026   0.000020   0.000014   0.000086   \n",
       "2  34834       C   0.000028   0.000022   0.000020   0.000014   0.000036   \n",
       "3  74650       C   0.000028   0.000022   0.000020   0.000014   0.000036   \n",
       "4  65375       C   0.000145   0.000026   0.000199   0.000024   0.000417   \n",
       "\n",
       "   is_poor_5  is_poor_6  is_poor_7  is_poor_8  is_poor_9  is_poor_10  \n",
       "0   0.000084   0.000080   0.000094   0.000461   0.000141    0.000223  \n",
       "1   0.000084   0.000059   0.000094   0.000040   0.000141    0.000127  \n",
       "2   0.000032   0.000023   0.000028   0.000040   0.000032    0.000009  \n",
       "3   0.000032   0.000023   0.000028   0.000040   0.000032    0.000102  \n",
       "4   0.001191   0.001674   0.000310   0.002492   0.000141    0.000369  "
      ]
     },
     "execution_count": 2,
     "metadata": {},
     "output_type": "execute_result"
    }
   ],
   "source": [
    "path = r\"C:\\Users\\piush\\Desktop\\World Bank Poverty\\submissions\\c_sub\"\n",
    "\n",
    "all_files = os.listdir(path)\n",
    "\n",
    "# Read and concatenate submissions\n",
    "outs = [pd.read_csv(os.path.join(path, f), index_col=[0,1]) for f in all_files]\n",
    "concat_sub = pd.concat(outs, axis=1)\n",
    "cols = list(map(lambda x: \"is_poor_\" + str(x), range(len(concat_sub.columns))))\n",
    "concat_sub.columns = cols\n",
    "concat_sub.reset_index(inplace=True)\n",
    "concat_sub.head()"
   ]
  },
  {
   "cell_type": "code",
   "execution_count": 3,
   "metadata": {
    "collapsed": false
   },
   "outputs": [
    {
     "data": {
      "text/html": [
       "<div>\n",
       "<table border=\"1\" class=\"dataframe\">\n",
       "  <thead>\n",
       "    <tr style=\"text-align: right;\">\n",
       "      <th></th>\n",
       "      <th>is_poor_0</th>\n",
       "      <th>is_poor_1</th>\n",
       "      <th>is_poor_2</th>\n",
       "      <th>is_poor_3</th>\n",
       "      <th>is_poor_4</th>\n",
       "      <th>is_poor_5</th>\n",
       "      <th>is_poor_6</th>\n",
       "      <th>is_poor_7</th>\n",
       "      <th>is_poor_8</th>\n",
       "      <th>is_poor_9</th>\n",
       "      <th>is_poor_10</th>\n",
       "    </tr>\n",
       "  </thead>\n",
       "  <tbody>\n",
       "    <tr>\n",
       "      <th>0</th>\n",
       "      <td>0.000122</td>\n",
       "      <td>0.000026</td>\n",
       "      <td>0.00011</td>\n",
       "      <td>0.000045</td>\n",
       "      <td>0.000633</td>\n",
       "      <td>0.000084</td>\n",
       "      <td>0.000080</td>\n",
       "      <td>0.000094</td>\n",
       "      <td>0.000461</td>\n",
       "      <td>0.000141</td>\n",
       "      <td>0.000223</td>\n",
       "    </tr>\n",
       "    <tr>\n",
       "      <th>1</th>\n",
       "      <td>0.000122</td>\n",
       "      <td>0.000026</td>\n",
       "      <td>0.00002</td>\n",
       "      <td>0.000014</td>\n",
       "      <td>0.000086</td>\n",
       "      <td>0.000084</td>\n",
       "      <td>0.000059</td>\n",
       "      <td>0.000094</td>\n",
       "      <td>0.000040</td>\n",
       "      <td>0.000141</td>\n",
       "      <td>0.000127</td>\n",
       "    </tr>\n",
       "  </tbody>\n",
       "</table>\n",
       "</div>"
      ],
      "text/plain": [
       "   is_poor_0  is_poor_1  is_poor_2  is_poor_3  is_poor_4  is_poor_5  \\\n",
       "0   0.000122   0.000026    0.00011   0.000045   0.000633   0.000084   \n",
       "1   0.000122   0.000026    0.00002   0.000014   0.000086   0.000084   \n",
       "\n",
       "   is_poor_6  is_poor_7  is_poor_8  is_poor_9  is_poor_10  \n",
       "0   0.000080   0.000094   0.000461   0.000141    0.000223  \n",
       "1   0.000059   0.000094   0.000040   0.000141    0.000127  "
      ]
     },
     "execution_count": 3,
     "metadata": {},
     "output_type": "execute_result"
    }
   ],
   "source": [
    "concat_sub.iloc[:,2:15].head(2)"
   ]
  },
  {
   "cell_type": "code",
   "execution_count": 4,
   "metadata": {
    "collapsed": true
   },
   "outputs": [],
   "source": [
    "concat_sub['poor'] = concat_sub.iloc[:,2:15].mean(axis = 1)"
   ]
  },
  {
   "cell_type": "code",
   "execution_count": 5,
   "metadata": {
    "collapsed": true
   },
   "outputs": [],
   "source": [
    "c = concat_sub[['id','country','poor']]"
   ]
  },
  {
   "cell_type": "code",
   "execution_count": 6,
   "metadata": {
    "collapsed": true
   },
   "outputs": [],
   "source": [
    "c.to_csv(\"c_1.csv\")"
   ]
  },
  {
   "cell_type": "code",
   "execution_count": null,
   "metadata": {
    "collapsed": true
   },
   "outputs": [],
   "source": [
    "# get the data fields ready for stacking\n",
    "concat_sub['is_poor_max'] = concat_sub.iloc[:, 2:18].max(axis=1)\n",
    "concat_sub['is_poor_min'] = concat_sub.iloc[:, 2:18].min(axis=1)\n",
    "concat_sub['is_poor_mean'] = concat_sub.iloc[:, 2:18].mean(axis=1)\n",
    "concat_sub['is_poor_median'] = concat_sub.iloc[:, 2:18].median(axis=1)"
   ]
  },
  {
   "cell_type": "code",
   "execution_count": null,
   "metadata": {
    "collapsed": true
   },
   "outputs": [],
   "source": [
    "# set up cutoff threshold for lower and upper bounds, easy to twist \n",
    "cutoff_lo = 0.8\n",
    "cutoff_hi = 0.2"
   ]
  },
  {
   "cell_type": "code",
   "execution_count": null,
   "metadata": {
    "collapsed": true
   },
   "outputs": [],
   "source": [
    "concat_sub.head()"
   ]
  },
  {
   "cell_type": "markdown",
   "metadata": {},
   "source": [
    "### Change the column names "
   ]
  },
  {
   "cell_type": "markdown",
   "metadata": {},
   "source": [
    "###### Mean Stacking"
   ]
  },
  {
   "cell_type": "code",
   "execution_count": null,
   "metadata": {
    "collapsed": true
   },
   "outputs": [],
   "source": [
    "concat_sub['is_poor'] = concat_sub['is_poor_mean']\n",
    "concat_sub[['id','country', 'is_poor']].to_csv('stack_mean.csv', \n",
    "                                        index=False, float_format='%.6f')"
   ]
  },
  {
   "cell_type": "markdown",
   "metadata": {},
   "source": [
    "###### Median Stacking"
   ]
  },
  {
   "cell_type": "code",
   "execution_count": null,
   "metadata": {
    "collapsed": true
   },
   "outputs": [],
   "source": [
    "concat_sub['is_poor'] = concat_sub['is_poor_median']\n",
    "concat_sub[['id','country', 'is_poor']].to_csv('stack_median.csv', \n",
    "                                        index=False, float_format='%.6f')"
   ]
  },
  {
   "cell_type": "markdown",
   "metadata": {},
   "source": [
    "###### PushOut + Median Stacking\n",
    "Pushout strategy is a bit agressive given what it does..."
   ]
  },
  {
   "cell_type": "code",
   "execution_count": null,
   "metadata": {
    "collapsed": true
   },
   "outputs": [],
   "source": [
    "concat_sub['is_poor'] = np.where(np.all(concat_sub.iloc[:,1:6] > cutoff_lo, axis=1), 1, \n",
    "                                    np.where(np.all(concat_sub.iloc[:,1:6] < cutoff_hi, axis=1),\n",
    "                                             0, concat_sub['is_poor_median']))\n",
    "concat_sub[['id','country', 'is_poor']].to_csv('stack_pushout_median.csv', \n",
    "                                        index=False, float_format='%.6f')"
   ]
  },
  {
   "cell_type": "markdown",
   "metadata": {},
   "source": [
    "###### MinMax + Mean Stacking\n",
    "MinMax seems more gentle and it outperforms the previous one given its peformance score."
   ]
  },
  {
   "cell_type": "code",
   "execution_count": null,
   "metadata": {
    "collapsed": true
   },
   "outputs": [],
   "source": [
    "concat_sub['is_poor'] = np.where(np.all(concat_sub.iloc[:,1:6] > cutoff_lo, axis=1), \n",
    "                                    concat_sub['is_poor_max'], \n",
    "                                    np.where(np.all(concat_sub.iloc[:,1:6] < cutoff_hi, axis=1),\n",
    "                                             concat_sub['is_poor_min'], \n",
    "                                             concat_sub['is_poor_mean']))\n",
    "concat_sub[['id','country', 'is_poor']].to_csv('stack_minmax_mean.csv', \n",
    "                                        index=False, float_format='%.6f')"
   ]
  },
  {
   "cell_type": "markdown",
   "metadata": {},
   "source": [
    "###### MinMax + Median Stacking"
   ]
  },
  {
   "cell_type": "code",
   "execution_count": null,
   "metadata": {
    "collapsed": true
   },
   "outputs": [],
   "source": [
    "concat_sub['is_poor'] = np.where(np.all(concat_sub.iloc[:,1:6] > cutoff_lo, axis=1), \n",
    "                                    concat_sub['is_poor_max'], \n",
    "                                    np.where(np.all(concat_sub.iloc[:,1:6] < cutoff_hi, axis=1),\n",
    "                                             concat_sub['is_poor_min'], \n",
    "                                             concat_sub['is_poor_median']))\n",
    "concat_sub[['id','country', 'is_poor']].to_csv('stack_minmax_median.csv', \n",
    "                                        index=False, float_format='%.6f')"
   ]
  },
  {
   "cell_type": "markdown",
   "metadata": {},
   "source": [
    "###### MinMax + BestBase Stacking"
   ]
  },
  {
   "cell_type": "code",
   "execution_count": null,
   "metadata": {
    "collapsed": true
   },
   "outputs": [],
   "source": [
    "# load the model with best base performance\n",
    "sub_base = pd.read_csv(r\"C:\\Users\\pvaish10\\Desktop\\csv_poverty\\submission_X_G_tr2.csv\")"
   ]
  },
  {
   "cell_type": "code",
   "execution_count": null,
   "metadata": {
    "collapsed": true
   },
   "outputs": [],
   "source": [
    "concat_sub['is_poor_base'] = sub_base['poor']\n",
    "concat_sub['is_poor'] = np.where(np.all(concat_sub.iloc[:,1:6] > cutoff_lo, axis=1), \n",
    "                                    concat_sub['is_poor_max'], \n",
    "                                    np.where(np.all(concat_sub.iloc[:,1:6] < cutoff_hi, axis=1),\n",
    "                                             concat_sub['is_poor_min'], \n",
    "                                             concat_sub['is_poor_base']))\n",
    "concat_sub[['id','country', 'is_poor']].to_csv('stack_minmax_bestbase.csv', \n",
    "                                        index=False, float_format='%.6f')"
   ]
  },
  {
   "cell_type": "code",
   "execution_count": null,
   "metadata": {
    "collapsed": true
   },
   "outputs": [],
   "source": []
  }
 ],
 "metadata": {
  "anaconda-cloud": {},
  "kernelspec": {
   "display_name": "Python [default]",
   "language": "python",
   "name": "python3"
  },
  "language_info": {
   "codemirror_mode": {
    "name": "ipython",
    "version": 3
   },
   "file_extension": ".py",
   "mimetype": "text/x-python",
   "name": "python",
   "nbconvert_exporter": "python",
   "pygments_lexer": "ipython3",
   "version": "3.5.1"
  }
 },
 "nbformat": 4,
 "nbformat_minor": 2
}
